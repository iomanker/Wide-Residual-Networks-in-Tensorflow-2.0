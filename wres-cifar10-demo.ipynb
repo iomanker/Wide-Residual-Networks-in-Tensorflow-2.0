{
 "cells": [
  {
   "cell_type": "code",
   "execution_count": 1,
   "metadata": {},
   "outputs": [],
   "source": [
    "import cv2\n",
    "import numpy as np\n",
    "import tensorflow as tf\n",
    "import pandas as pd\n",
    "import glob\n",
    "from PIL import Image"
   ]
  },
  {
   "cell_type": "code",
   "execution_count": 2,
   "metadata": {},
   "outputs": [],
   "source": [
    "from tensorflow.keras.layers import *\n",
    "from tensorflow.keras import Model\n",
    "from tensorflow.keras.losses import *\n",
    "from tensorflow.keras import activations"
   ]
  },
  {
   "cell_type": "code",
   "execution_count": 3,
   "metadata": {},
   "outputs": [],
   "source": [
    "from wide_resnet import WideResidualNetwork as wresnet"
   ]
  },
  {
   "cell_type": "code",
   "execution_count": 4,
   "metadata": {},
   "outputs": [],
   "source": [
    "def load_cifar(filespath,labelspath):\n",
    "    images_list = []\n",
    "    df = pd.read_csv(labelspath)\n",
    "    labels_arr = df.iloc[:,1].values\n",
    "    coor_labels = []\n",
    "    for filename in glob.glob(filespath+'/*.png'):\n",
    "        fileNo = int(filename.split('/')[-1].split('.')[0])-1\n",
    "        im=Image.open(filename)\n",
    "        images_list.append(np.array(im))\n",
    "        coor_labels.append(labels_arr[fileNo])\n",
    "    return np.asarray(images_list), np.asarray(coor_labels)"
   ]
  },
  {
   "cell_type": "code",
   "execution_count": 5,
   "metadata": {},
   "outputs": [],
   "source": [
    "X_dataset, y_dataset = load_cifar('./train','./train_labels.csv')"
   ]
  },
  {
   "cell_type": "code",
   "execution_count": 6,
   "metadata": {},
   "outputs": [
    {
     "data": {
      "text/plain": [
       "(47500, 32, 32, 3)"
      ]
     },
     "execution_count": 6,
     "metadata": {},
     "output_type": "execute_result"
    }
   ],
   "source": [
    "X_dataset = X_dataset.astype('float32')\n",
    "X_dataset = (X_dataset-127.5)/127.5\n",
    "X_dataset.shape"
   ]
  },
  {
   "cell_type": "code",
   "execution_count": 7,
   "metadata": {},
   "outputs": [
    {
     "data": {
      "text/plain": [
       "(47500, 10)"
      ]
     },
     "execution_count": 7,
     "metadata": {},
     "output_type": "execute_result"
    }
   ],
   "source": [
    "y_dataset = tf.keras.utils.to_categorical(y_dataset)\n",
    "y_dataset.shape"
   ]
  },
  {
   "cell_type": "code",
   "execution_count": 8,
   "metadata": {},
   "outputs": [],
   "source": [
    "from sklearn.model_selection import train_test_split"
   ]
  },
  {
   "cell_type": "code",
   "execution_count": 9,
   "metadata": {},
   "outputs": [],
   "source": [
    "X_train, X_test, y_train, y_test = train_test_split(X_dataset,\n",
    "                                                    y_dataset,\n",
    "                                                    test_size=0.2)"
   ]
  },
  {
   "cell_type": "code",
   "execution_count": 19,
   "metadata": {},
   "outputs": [],
   "source": [
    "from tensorflow.keras.preprocessing.image import ImageDataGenerator\n",
    "image_gen_train = ImageDataGenerator(rotation_range=20,width_shift_range=0.2,\n",
    "                                    height_shift_range=0.2,horizontal_flip=True)\n",
    "train_data_gen = image_gen_train.flow(X_train,y_train,batch_size=32)"
   ]
  },
  {
   "cell_type": "code",
   "execution_count": 11,
   "metadata": {},
   "outputs": [],
   "source": [
    "from tensorflow.keras.layers import *\n",
    "from tensorflow.keras import Model\n",
    "from tensorflow.keras.losses import *\n",
    "from tensorflow.keras import activations"
   ]
  },
  {
   "cell_type": "code",
   "execution_count": 24,
   "metadata": {},
   "outputs": [],
   "source": [
    "model = wresnet()\n",
    "model.compile(optimizer=tf.keras.optimizers.Adam(lr=1e-6),loss=\"categorical_crossentropy\",metrics=['accuracy'])"
   ]
  },
  {
   "cell_type": "code",
   "execution_count": 25,
   "metadata": {},
   "outputs": [
    {
     "name": "stdout",
     "output_type": "stream",
     "text": [
      "Epoch 1/15\n",
      "1187/1187 [==============================] - 178s 150ms/step - loss: 0.3946 - accuracy: 0.8800 - val_loss: 0.0688 - val_accuracy: 0.9760\n",
      "Epoch 2/15\n",
      "1187/1187 [==============================] - 179s 151ms/step - loss: 0.3815 - accuracy: 0.8837 - val_loss: 0.0646 - val_accuracy: 0.9771\n",
      "Epoch 3/15\n",
      "1187/1187 [==============================] - 178s 150ms/step - loss: 0.3576 - accuracy: 0.8901 - val_loss: 0.0633 - val_accuracy: 0.9780\n",
      "Epoch 4/15\n",
      "1187/1187 [==============================] - 178s 150ms/step - loss: 0.3451 - accuracy: 0.8921 - val_loss: 0.0601 - val_accuracy: 0.9788\n",
      "Epoch 5/15\n",
      "1187/1187 [==============================] - 178s 150ms/step - loss: 0.3388 - accuracy: 0.8943 - val_loss: 0.0592 - val_accuracy: 0.9793\n",
      "Epoch 6/15\n",
      "1187/1187 [==============================] - 179s 150ms/step - loss: 0.3321 - accuracy: 0.8950 - val_loss: 0.0583 - val_accuracy: 0.9800\n",
      "Epoch 7/15\n",
      "1187/1187 [==============================] - 178s 150ms/step - loss: 0.3288 - accuracy: 0.8950 - val_loss: 0.0562 - val_accuracy: 0.9811\n",
      "Epoch 8/15\n",
      "1187/1187 [==============================] - 179s 151ms/step - loss: 0.3191 - accuracy: 0.8985 - val_loss: 0.0570 - val_accuracy: 0.9805\n",
      "Epoch 9/15\n",
      "1187/1187 [==============================] - 180s 151ms/step - loss: 0.3093 - accuracy: 0.9017 - val_loss: 0.0557 - val_accuracy: 0.9807\n",
      "Epoch 10/15\n",
      "1187/1187 [==============================] - 179s 151ms/step - loss: 0.3054 - accuracy: 0.9025 - val_loss: 0.0552 - val_accuracy: 0.9811\n",
      "Epoch 11/15\n",
      "1187/1187 [==============================] - 179s 151ms/step - loss: 0.3094 - accuracy: 0.9016 - val_loss: 0.0558 - val_accuracy: 0.9814\n",
      "Epoch 12/15\n",
      "1187/1187 [==============================] - 180s 152ms/step - loss: 0.3049 - accuracy: 0.9033 - val_loss: 0.0537 - val_accuracy: 0.9825\n",
      "Epoch 13/15\n",
      "1187/1187 [==============================] - 179s 151ms/step - loss: 0.3027 - accuracy: 0.9029 - val_loss: 0.0538 - val_accuracy: 0.9819\n",
      "Epoch 14/15\n",
      "1187/1187 [==============================] - 178s 150ms/step - loss: 0.2899 - accuracy: 0.9056 - val_loss: 0.0537 - val_accuracy: 0.9826\n",
      "Epoch 15/15\n",
      "1187/1187 [==============================] - 178s 150ms/step - loss: 0.2892 - accuracy: 0.9070 - val_loss: 0.0538 - val_accuracy: 0.9827\n"
     ]
    },
    {
     "data": {
      "text/plain": [
       "<tensorflow.python.keras.callbacks.History at 0x7f1c4c0e1748>"
      ]
     },
     "execution_count": 25,
     "metadata": {},
     "output_type": "execute_result"
    }
   ],
   "source": [
    "reduce_lr = tf.keras.callbacks.ReduceLROnPlateau()\n",
    "model.fit_generator(train_data_gen,steps_per_epoch=X_train.shape[0]//32,validation_data=(X_test,y_test),\n",
    "                   epochs=15,callbacks=[reduce_lr])"
   ]
  },
  {
   "cell_type": "code",
   "execution_count": 26,
   "metadata": {},
   "outputs": [],
   "source": [
    "test_list = []\n",
    "test_labels = []\n",
    "for filename in glob.glob('./finaltest'+'/*.png'):\n",
    "    idname = filename.split('/')[-1].split(')')[0].split('(')[-1]\n",
    "    im=Image.open(filename)\n",
    "    test_list.append(np.array(im))\n",
    "    test_labels.append(idname)"
   ]
  },
  {
   "cell_type": "code",
   "execution_count": 27,
   "metadata": {},
   "outputs": [],
   "source": [
    "test_list = np.asarray(test_list)\n",
    "test_labels = np.asarray(test_labels)"
   ]
  },
  {
   "cell_type": "code",
   "execution_count": 28,
   "metadata": {},
   "outputs": [
    {
     "data": {
      "text/plain": [
       "(2500, 32, 32, 3)"
      ]
     },
     "execution_count": 28,
     "metadata": {},
     "output_type": "execute_result"
    }
   ],
   "source": [
    "test_list.astype('float32')\n",
    "test_list = (test_list-127.5)/127.5\n",
    "test_list.shape"
   ]
  },
  {
   "cell_type": "code",
   "execution_count": 40,
   "metadata": {},
   "outputs": [],
   "source": [
    "test_result = model.predict(test_list)"
   ]
  },
  {
   "cell_type": "code",
   "execution_count": 41,
   "metadata": {},
   "outputs": [],
   "source": [
    "test_result2 = test_result.argmax(axis=1)"
   ]
  },
  {
   "cell_type": "code",
   "execution_count": 42,
   "metadata": {},
   "outputs": [],
   "source": [
    "submission = pd.DataFrame({ 'id': test_labels, 'class': test_result2 })\n",
    "submission.to_csv(\"coic3_final_test_wres3.csv\", index=False)"
   ]
  }
 ],
 "metadata": {
  "kernelspec": {
   "display_name": "Python 3",
   "language": "python",
   "name": "python3"
  },
  "language_info": {
   "codemirror_mode": {
    "name": "ipython",
    "version": 3
   },
   "file_extension": ".py",
   "mimetype": "text/x-python",
   "name": "python",
   "nbconvert_exporter": "python",
   "pygments_lexer": "ipython3",
   "version": "3.6.7"
  }
 },
 "nbformat": 4,
 "nbformat_minor": 4
}
